{
 "cells": [
  {
   "cell_type": "code",
   "execution_count": 1,
   "id": "1589d9c8-2274-4d95-a79d-3638ee1b3e40",
   "metadata": {},
   "outputs": [
    {
     "data": {
      "text/plain": [
       "\"\\n1.) Numpy is python lib.\\n2.) NumPy stands for Numerical Python\\n3.)numpy is faster than list Becasue it is homogeneous\\n4.) it's computation is used in c++ so it is faster than list that's why we use it.\""
      ]
     },
     "execution_count": 1,
     "metadata": {},
     "output_type": "execute_result"
    }
   ],
   "source": [
    "#1. What is a Python library? Why do we use Python libraries?\n",
    "'''\n",
    "1.) Numpy is python lib.\n",
    "2.) NumPy stands for Numerical Python\n",
    "3.)numpy is faster than list Becasue it is homogeneous\n",
    "4.) it's computation is used in c++ so it is faster than list that's why we use it.'''"
   ]
  },
  {
   "cell_type": "code",
   "execution_count": 2,
   "id": "49c5e812-8580-4914-8c6e-f3cca3d010d1",
   "metadata": {},
   "outputs": [
    {
     "data": {
      "text/plain": [
       "'--List--\\nList are slower as compared to array\\nNumpy are homogenous so they store same type of data which inturns make them more efficient and faster.\\nalso they have fix data type which makes them more relaible and less mermory comsuming and limit use of other type of data.\\n'"
      ]
     },
     "execution_count": 2,
     "metadata": {},
     "output_type": "execute_result"
    }
   ],
   "source": [
    "#2. What is the ^ifference between Numpy array an^ List?\n",
    "\n",
    "'''--List--\n",
    "List are slower as compared to array\n",
    "Numpy are homogenous so they store same type of data which inturns make them more efficient and faster.\n",
    "also they have fix data type which makes them more relaible and less mermory comsuming and limit use of other type of data.\n",
    "'''"
   ]
  },
  {
   "cell_type": "code",
   "execution_count": 7,
   "id": "8b56579b-761f-47a9-8aaf-5bbce9845a7a",
   "metadata": {},
   "outputs": [
    {
     "data": {
      "text/plain": [
       "'[[1, 2, 3, 4]\\n\\n[5, 6, 7, 8],\\n\\n[9, 10, 11, 12]]'"
      ]
     },
     "execution_count": 7,
     "metadata": {},
     "output_type": "execute_result"
    }
   ],
   "source": [
    "#3. Fin^ the shape, size an^ ^imension of the following array?\n",
    "\n",
    "'''[[1, 2, 3, 4]\n",
    "\n",
    "[5, 6, 7, 8],\n",
    "\n",
    "[9, 10, 11, 12]]'''\n"
   ]
  },
  {
   "cell_type": "code",
   "execution_count": 8,
   "id": "4b461b1c-2e75-4437-9fc5-70df2e3dadca",
   "metadata": {},
   "outputs": [],
   "source": [
    "import numpy as np"
   ]
  },
  {
   "cell_type": "code",
   "execution_count": 18,
   "id": "cec4fa9d-4331-4f13-b6f2-988fa4230374",
   "metadata": {},
   "outputs": [],
   "source": [
    "arr =np.array([[1, 2, 3, 4], [5, 6, 7, 8],\n",
    "\n",
    "[9, 10, 11, 12]])"
   ]
  },
  {
   "cell_type": "code",
   "execution_count": 19,
   "id": "735d5984-b998-49fc-92e1-343900ea261a",
   "metadata": {},
   "outputs": [
    {
     "data": {
      "text/plain": [
       "2"
      ]
     },
     "execution_count": 19,
     "metadata": {},
     "output_type": "execute_result"
    }
   ],
   "source": [
    "arr.ndim # dimension"
   ]
  },
  {
   "cell_type": "code",
   "execution_count": 20,
   "id": "a9394e1e-114c-4923-951e-20585b8bc1d6",
   "metadata": {},
   "outputs": [
    {
     "data": {
      "text/plain": [
       "12"
      ]
     },
     "execution_count": 20,
     "metadata": {},
     "output_type": "execute_result"
    }
   ],
   "source": [
    "arr.size # Size"
   ]
  },
  {
   "cell_type": "code",
   "execution_count": 21,
   "id": "99335e0f-ce87-4d72-9e3b-0010a8d25c85",
   "metadata": {},
   "outputs": [
    {
     "data": {
      "text/plain": [
       "(3, 4)"
      ]
     },
     "execution_count": 21,
     "metadata": {},
     "output_type": "execute_result"
    }
   ],
   "source": [
    "arr.shape # shape"
   ]
  },
  {
   "cell_type": "code",
   "execution_count": 22,
   "id": "48206cf9-2613-4121-8ecb-888ad6fb6057",
   "metadata": {},
   "outputs": [
    {
     "data": {
      "text/plain": [
       "'\\n[[1, 2, 3, 4]\\n\\n[5, 6, 7, 8],\\n\\n[9, 10, 11, 12]]'"
      ]
     },
     "execution_count": 22,
     "metadata": {},
     "output_type": "execute_result"
    }
   ],
   "source": [
    "#4. Write python co^e to access the first row of the following array?\n",
    "'''\n",
    "[[1, 2, 3, 4]\n",
    "\n",
    "[5, 6, 7, 8],\n",
    "\n",
    "[9, 10, 11, 12]]'''\n"
   ]
  },
  {
   "cell_type": "code",
   "execution_count": 24,
   "id": "eab47c51-5286-401f-a10a-16ffb40c29e6",
   "metadata": {},
   "outputs": [],
   "source": [
    "arr8=np.array([[1, 2, 3, 4],\n",
    "\n",
    "[5, 6, 7, 8],\n",
    "\n",
    "[9, 10, 11, 12]])"
   ]
  },
  {
   "cell_type": "code",
   "execution_count": 30,
   "id": "bcf7cd8c-4012-4989-8444-300e4ccd461e",
   "metadata": {},
   "outputs": [
    {
     "data": {
      "text/plain": [
       "array([1, 2, 3, 4])"
      ]
     },
     "execution_count": 30,
     "metadata": {},
     "output_type": "execute_result"
    }
   ],
   "source": [
    "arr8[0]"
   ]
  },
  {
   "cell_type": "code",
   "execution_count": 27,
   "id": "c1135060-c3e9-4291-98f0-6ce74f66f15d",
   "metadata": {},
   "outputs": [
    {
     "data": {
      "text/plain": [
       "'\\n[[1, 2, 3, 4]\\n\\n[5, 6, 7, 8],\\n\\n[9, 10, 11, 12]]'"
      ]
     },
     "execution_count": 27,
     "metadata": {},
     "output_type": "execute_result"
    }
   ],
   "source": [
    "#5. How ^o you access the element at the thir^ row an^ fourth column from the given numpy array?\n",
    "'''\n",
    "[[1, 2, 3, 4]\n",
    "\n",
    "[5, 6, 7, 8],\n",
    "\n",
    "[9, 10, 11, 12]]'''"
   ]
  },
  {
   "cell_type": "code",
   "execution_count": 42,
   "id": "cba7ca42-3c9b-4105-bac8-ad170442b7c3",
   "metadata": {},
   "outputs": [],
   "source": [
    "arr9=np.array([[1, 2, 3, 4],\n",
    "\n",
    "[5, 6, 7, 8],\n",
    "\n",
    "[9, 10, 11, 12]])"
   ]
  },
  {
   "cell_type": "code",
   "execution_count": 43,
   "id": "04b0b5c3-abf9-4bef-83b8-7c0ee04898d3",
   "metadata": {},
   "outputs": [
    {
     "data": {
      "text/plain": [
       "12"
      ]
     },
     "execution_count": 43,
     "metadata": {},
     "output_type": "execute_result"
    }
   ],
   "source": [
    "arr9[2][3]"
   ]
  },
  {
   "cell_type": "code",
   "execution_count": 36,
   "id": "948bc5ed-b03a-46c8-a146-fad2ebf67915",
   "metadata": {},
   "outputs": [
    {
     "data": {
      "text/plain": [
       "'#6. Write co^e to extract all o^^-in^exe^ elements from the given numpy array?\\n\\n[[1, 2, 3, 4]\\n\\n[5, 6, 7, 8],\\n\\n[9, 10, 11, 12]]'"
      ]
     },
     "execution_count": 36,
     "metadata": {},
     "output_type": "execute_result"
    }
   ],
   "source": [
    "'''#6. Write co^e to extract all o^^-in^exe^ elements from the given numpy array?\n",
    "\n",
    "[[1, 2, 3, 4]\n",
    "\n",
    "[5, 6, 7, 8],\n",
    "\n",
    "[9, 10, 11, 12]]'''"
   ]
  },
  {
   "cell_type": "code",
   "execution_count": 50,
   "id": "58d5531a-acb2-47b7-85d1-90092289164f",
   "metadata": {},
   "outputs": [],
   "source": [
    "arr10=np.array([[1, 2, 3, 4],\n",
    "\n",
    "[5, 6, 7, 8],\n",
    "\n",
    "[9, 10, 11, 12]])\n",
    "\n",
    "\n"
   ]
  },
  {
   "cell_type": "code",
   "execution_count": 51,
   "id": "cca49c1b-79e1-475a-8eca-a135e80aa015",
   "metadata": {},
   "outputs": [],
   "source": [
    "odd_arr = arr10[arr10 % 2 != 0]"
   ]
  },
  {
   "cell_type": "code",
   "execution_count": 52,
   "id": "c9f6d70f-4f0a-4fea-af5c-eb32188c999b",
   "metadata": {},
   "outputs": [
    {
     "data": {
      "text/plain": [
       "array([ 1,  3,  5,  7,  9, 11])"
      ]
     },
     "execution_count": 52,
     "metadata": {},
     "output_type": "execute_result"
    }
   ],
   "source": [
    "odd_arr"
   ]
  },
  {
   "cell_type": "code",
   "execution_count": 53,
   "id": "789a4730-6829-4d47-9e28-1bae584c06c4",
   "metadata": {},
   "outputs": [
    {
     "data": {
      "text/plain": [
       "'#7. How can you generate a ran^om 3x3 matrix with values between 0 an^ 1?'"
      ]
     },
     "execution_count": 53,
     "metadata": {},
     "output_type": "execute_result"
    }
   ],
   "source": [
    "'''#7. How can you generate a ran^om 3x3 matrix with values between 0 an^ 1?'''"
   ]
  },
  {
   "cell_type": "code",
   "execution_count": 70,
   "id": "95d216a9-e4bf-4fb0-9c7d-456f4474f17c",
   "metadata": {},
   "outputs": [],
   "source": [
    "#arr12 = np.zeros((3,3))\n"
   ]
  },
  {
   "cell_type": "code",
   "execution_count": 71,
   "id": "f0b9d7fa-65ee-4a24-acba-5f610d5bf6bc",
   "metadata": {},
   "outputs": [],
   "source": [
    "#arr12"
   ]
  },
  {
   "cell_type": "code",
   "execution_count": 72,
   "id": "0de179f5-cc08-45ef-9889-4950c713ada7",
   "metadata": {},
   "outputs": [],
   "source": [
    "#arr13 = np.ones((3,3))"
   ]
  },
  {
   "cell_type": "code",
   "execution_count": 73,
   "id": "d8b19110-40f2-4934-88b1-5fda52dbfc78",
   "metadata": {},
   "outputs": [],
   "source": [
    "#arr13"
   ]
  },
  {
   "cell_type": "code",
   "execution_count": 75,
   "id": "582f8e56-35ba-4b8c-a762-9ab2cb98a0ae",
   "metadata": {},
   "outputs": [],
   "source": [
    "arr15 = np.random.rand(3,3)"
   ]
  },
  {
   "cell_type": "code",
   "execution_count": 76,
   "id": "c53d2fb9-4ad0-4bdf-8846-d7700bec6de1",
   "metadata": {},
   "outputs": [
    {
     "data": {
      "text/plain": [
       "array([[0.25098939, 0.20762629, 0.31768853],\n",
       "       [0.6850368 , 0.07071329, 0.50473963],\n",
       "       [0.5219962 , 0.26540265, 0.77992875]])"
      ]
     },
     "execution_count": 76,
     "metadata": {},
     "output_type": "execute_result"
    }
   ],
   "source": [
    "arr15"
   ]
  },
  {
   "cell_type": "code",
   "execution_count": 82,
   "id": "866f9483-b090-40be-9655-cf7de7dac384",
   "metadata": {},
   "outputs": [],
   "source": [
    "#8. Describe the ^ifference between np.ran^om.ran^ an^ np.ran^om.ran^n?\n",
    "\n",
    "#np.random.rand()-Create array with given size and also have uniform distribution and evenly discrtibuted\n",
    "\n",
    "#np.random.randn()-normal distribution and uneven distribution"
   ]
  },
  {
   "cell_type": "code",
   "execution_count": 3,
   "id": "6f263e5b-d2c1-4ca0-b7a0-04dcb574f535",
   "metadata": {},
   "outputs": [],
   "source": [
    "''' #9 Write a code  increase the  dim  of the f0llowing array'''\n",
    "import numpy as np\n",
    "arrr =[[1,2,3,4],[5,6,7,8],[9,10,11,12]]"
   ]
  },
  {
   "cell_type": "code",
   "execution_count": 13,
   "id": "eb775e2d-fdeb-44dc-a25d-df7d3cb90faa",
   "metadata": {},
   "outputs": [],
   "source": [
    "new_arr_1 = np.expand_dims(arrr, axis=1)\n"
   ]
  },
  {
   "cell_type": "code",
   "execution_count": 14,
   "id": "256bca10-75ea-4da5-b96c-163a3ed796ed",
   "metadata": {},
   "outputs": [
    {
     "data": {
      "text/plain": [
       "array([[[ 1,  2,  3,  4]],\n",
       "\n",
       "       [[ 5,  6,  7,  8]],\n",
       "\n",
       "       [[ 9, 10, 11, 12]]])"
      ]
     },
     "execution_count": 14,
     "metadata": {},
     "output_type": "execute_result"
    }
   ],
   "source": [
    "new_arr_1"
   ]
  },
  {
   "cell_type": "code",
   "execution_count": 54,
   "id": "567c1774-3bea-41aa-a979-ca51980f183f",
   "metadata": {},
   "outputs": [],
   "source": [
    "#10. How to transpose the follwowing array in Numpy?"
   ]
  },
  {
   "cell_type": "code",
   "execution_count": 55,
   "id": "719d2f03-3971-492d-b654-382e45180cbf",
   "metadata": {},
   "outputs": [],
   "source": [
    "import numpy as np\n",
    "\n",
    "arrr =np.array([[1,2,3,4],[5,6,7,8],[9,10,11,12]])"
   ]
  },
  {
   "cell_type": "code",
   "execution_count": 56,
   "id": "f69da53c-1c5b-4ba2-94ee-8eb167749fae",
   "metadata": {},
   "outputs": [],
   "source": [
    "arr_tn =arrr.T"
   ]
  },
  {
   "cell_type": "code",
   "execution_count": 57,
   "id": "b4977046-c3fc-4bf0-9a1e-24461233d333",
   "metadata": {},
   "outputs": [
    {
     "data": {
      "text/plain": [
       "array([[ 1,  5,  9],\n",
       "       [ 2,  6, 10],\n",
       "       [ 3,  7, 11],\n",
       "       [ 4,  8, 12]])"
      ]
     },
     "execution_count": 57,
     "metadata": {},
     "output_type": "execute_result"
    }
   ],
   "source": [
    "arr_tn "
   ]
  },
  {
   "cell_type": "code",
   "execution_count": 60,
   "id": "3ba340d5-0286-4f34-8fe2-06b0f06b8f98",
   "metadata": {},
   "outputs": [
    {
     "data": {
      "text/plain": [
       "'11. PErform the  folowing operations'"
      ]
     },
     "execution_count": 60,
     "metadata": {},
     "output_type": "execute_result"
    }
   ],
   "source": [
    "'''11. PErform the  folowing operations'''"
   ]
  },
  {
   "cell_type": "code",
   "execution_count": 61,
   "id": "1e305549-0351-4b4d-9a43-d65b4ec0f4bb",
   "metadata": {},
   "outputs": [],
   "source": [
    "Matrix1=np.array([[1,2,3,4],[5,6,7,8],[9,10,11,12]])\n",
    "\n",
    "Matrix2=np.array([[1,2,3,4],[5,6,7,8],[9,10,11,12]])"
   ]
  },
  {
   "cell_type": "code",
   "execution_count": 62,
   "id": "1fa3e36a-ebfa-4546-8481-450024660fbc",
   "metadata": {},
   "outputs": [],
   "source": [
    "#11.1 Index wise *"
   ]
  },
  {
   "cell_type": "code",
   "execution_count": 63,
   "id": "a0480712-ac28-43d8-9114-eb404b3a83bb",
   "metadata": {},
   "outputs": [
    {
     "data": {
      "text/plain": [
       "array([[  1,   4,   9,  16],\n",
       "       [ 25,  36,  49,  64],\n",
       "       [ 81, 100, 121, 144]])"
      ]
     },
     "execution_count": 63,
     "metadata": {},
     "output_type": "execute_result"
    }
   ],
   "source": [
    "Matrix1*Matrix2"
   ]
  },
  {
   "cell_type": "code",
   "execution_count": 64,
   "id": "a8a3b17f-729b-48b3-ae8c-7fa58b41a9ef",
   "metadata": {},
   "outputs": [],
   "source": [
    "#11.2 Dont know the answer"
   ]
  },
  {
   "cell_type": "code",
   "execution_count": 65,
   "id": "fdcae979-0d25-4073-8cda-87e92e8e246b",
   "metadata": {},
   "outputs": [],
   "source": [
    "#11.3 Add both matrix"
   ]
  },
  {
   "cell_type": "code",
   "execution_count": 51,
   "id": "1ed6f264-575e-4e08-bfe2-378ad3245f4a",
   "metadata": {},
   "outputs": [
    {
     "data": {
      "text/plain": [
       "array([[ 2,  4,  6,  8],\n",
       "       [10, 12, 14, 16],\n",
       "       [18, 20, 22, 24]])"
      ]
     },
     "execution_count": 51,
     "metadata": {},
     "output_type": "execute_result"
    }
   ],
   "source": [
    "Matrix1 + Matrix2"
   ]
  },
  {
   "cell_type": "code",
   "execution_count": 66,
   "id": "a59023d9-caeb-4c59-9848-04c34fcfd304",
   "metadata": {},
   "outputs": [
    {
     "data": {
      "text/plain": [
       "array([[0, 0, 0, 0],\n",
       "       [0, 0, 0, 0],\n",
       "       [0, 0, 0, 0]])"
      ]
     },
     "execution_count": 66,
     "metadata": {},
     "output_type": "execute_result"
    }
   ],
   "source": [
    "#11.4 Sub both matrix\n",
    "Matrix2 - Matrix1\n"
   ]
  },
  {
   "cell_type": "code",
   "execution_count": 67,
   "id": "1bcabc6c-a12a-4885-825a-1da22d14682d",
   "metadata": {},
   "outputs": [
    {
     "data": {
      "text/plain": [
       "array([[1., 1., 1., 1.],\n",
       "       [1., 1., 1., 1.],\n",
       "       [1., 1., 1., 1.]])"
      ]
     },
     "execution_count": 67,
     "metadata": {},
     "output_type": "execute_result"
    }
   ],
   "source": [
    "#11.4 Sub both matrix\n",
    "Matrix2/Matrix1"
   ]
  },
  {
   "cell_type": "code",
   "execution_count": 69,
   "id": "93679b46-064c-47ee-ae40-f553584ef7db",
   "metadata": {},
   "outputs": [],
   "source": [
    "#12. Which fun in np can be  used to  swap the  byte order  of nay aray?"
   ]
  },
  {
   "cell_type": "code",
   "execution_count": 70,
   "id": "a5116de0-c23d-4a0f-8c53-6e97cbbbc7d1",
   "metadata": {},
   "outputs": [],
   "source": [
    "#byteswap() function can be used to swap thr order of any array except string."
   ]
  },
  {
   "cell_type": "code",
   "execution_count": 74,
   "id": "a68a2786-5621-4e85-b794-474ebfa8ff5c",
   "metadata": {},
   "outputs": [],
   "source": [
    "#13.what is the significance of np.linalg.inv func\n",
    "\n",
    "#.np.linalg.inv only works for square matrices. and inverse the matrics."
   ]
  },
  {
   "cell_type": "code",
   "execution_count": 87,
   "id": "d8d214c1-0926-4eb3-9378-f343f41ef0d1",
   "metadata": {},
   "outputs": [],
   "source": [
    "\n",
    "#14.#Can help you reshaping the the erray and with underlying elments"
   ]
  },
  {
   "cell_type": "code",
   "execution_count": 88,
   "id": "d1a92c64-811f-4041-901b-88d924204aaa",
   "metadata": {},
   "outputs": [],
   "source": [
    "\n",
    "#15.Broadcasting in NumPy is a powerful mechanism that allows you to perform element-wise operations on arrays of different shapes."
   ]
  },
  {
   "cell_type": "code",
   "execution_count": null,
   "id": "0ae80f52-74c6-49f4-b5bf-dfd1f117641a",
   "metadata": {},
   "outputs": [],
   "source": []
  }
 ],
 "metadata": {
  "kernelspec": {
   "display_name": "Python 3 (ipykernel)",
   "language": "python",
   "name": "python3"
  },
  "language_info": {
   "codemirror_mode": {
    "name": "ipython",
    "version": 3
   },
   "file_extension": ".py",
   "mimetype": "text/x-python",
   "name": "python",
   "nbconvert_exporter": "python",
   "pygments_lexer": "ipython3",
   "version": "3.10.8"
  }
 },
 "nbformat": 4,
 "nbformat_minor": 5
}
